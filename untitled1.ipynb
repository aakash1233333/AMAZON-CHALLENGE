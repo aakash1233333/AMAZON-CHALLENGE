{
  "nbformat": 4,
  "nbformat_minor": 0,
  "metadata": {
    "colab": {
      "provenance": [],
      "authorship_tag": "ABX9TyNQwau1LgtmTgrBiTWRFhVz",
      "include_colab_link": true
    },
    "kernelspec": {
      "name": "python3",
      "display_name": "Python 3"
    },
    "language_info": {
      "name": "python"
    }
  },
  "cells": [
    {
      "cell_type": "markdown",
      "metadata": {
        "id": "view-in-github",
        "colab_type": "text"
      },
      "source": [
        "<a href=\"https://colab.research.google.com/github/aakash1233333/.vscode/blob/master/untitled1.ipynb\" target=\"_parent\"><img src=\"https://colab.research.google.com/assets/colab-badge.svg\" alt=\"Open In Colab\"/></a>"
      ]
    },
    {
      "cell_type": "code",
      "execution_count": null,
      "metadata": {
        "id": "0OSBRPZ1IMgp"
      },
      "outputs": [],
      "source": [
        "import pandas as pd\n",
        "import numpy as np\n",
        "import matplotlib.pyplot as plt\n",
        "import seaborn as sns\n",
        "import re\n",
        "import string\n",
        "\n",
        "from sklearn.model_selection import train_test_split\n",
        "from sklearn.feature_extraction.text import TfidfVectorizer\n",
        "from sklearn.metrics import mean_absolute_percentage_error\n",
        "from sklearn.linear_model import LinearRegression\n",
        "from sklearn.ensemble import RandomForestRegressor\n",
        "import xgboost as xgb\n"
      ]
    },
    {
      "cell_type": "markdown",
      "source": [
        "load the data"
      ],
      "metadata": {
        "id": "xRSLGROJIOQZ"
      }
    },
    {
      "cell_type": "code",
      "source": [
        "train_df = pd.read_csv('train.csv')\n",
        "test_df = pd.read_csv('test.csv')\n"
      ],
      "metadata": {
        "id": "9VvYgY__IR-a"
      },
      "execution_count": null,
      "outputs": []
    },
    {
      "cell_type": "markdown",
      "source": [
        "explore data analytics"
      ],
      "metadata": {
        "id": "cpJrvKCaJlGv"
      }
    },
    {
      "cell_type": "code",
      "source": [
        "# Check the shape of the datasets\n",
        "print('Training dataset shape:', train_df.shape)\n",
        "print('Testing dataset shape:', test_df.shape)\n",
        "\n",
        "# Check the summary statistics of the training dataset\n",
        "train_df.describe(include='all')\n",
        "\n",
        "# Check for missing values in the training dataset\n",
        "train_df.isnull().sum()\n",
        "\n",
        "# Check the distribution of the target variable\n",
        "sns.histplot(train_df['PRODUCT_LENGTH'])\n",
        "plt.show()\n"
      ],
      "metadata": {
        "id": "pAf7Fg0-Jo3J"
      },
      "execution_count": null,
      "outputs": []
    },
    {
      "cell_type": "markdown",
      "source": [
        "data proceesing"
      ],
      "metadata": {
        "id": "Lj8027TNJuI6"
      }
    },
    {
      "cell_type": "code",
      "source": [
        "# Combine the title, description, and bullet points columns into a single text column\n",
        "train_df['text'] = train_df['TITLE'].fillna('') + ' ' + train_df['DESCRIPTION'].fillna('') + ' ' + train_df['BULLET_POINTS'].fillna('')\n",
        "test_df['text'] = test_df['TITLE'].fillna('') + ' ' + test_df['DESCRIPTION'].fillna('') + ' ' + test_df['BULLET_POINTS'].fillna('')\n",
        "\n",
        "# Remove punctuations and special characters from the text\n",
        "def clean_text(text):\n",
        "    text = re.sub('[%s]' % re.escape(string.punctuation), ' ', text)\n",
        "    text = re.sub('\\s+', ' ', text)\n",
        "    text = text.strip()\n",
        "    return text.lower()\n",
        "\n",
        "train_df['text'] = train_df['text'].apply(clean_text)\n",
        "test_df['text'] = test_df['text'].apply(clean_text)\n"
      ],
      "metadata": {
        "id": "WeKQrFVCJxqR"
      },
      "execution_count": null,
      "outputs": []
    },
    {
      "cell_type": "markdown",
      "source": [
        "feature enginnering"
      ],
      "metadata": {
        "id": "M9ZhexuAKHW5"
      }
    },
    {
      "cell_type": "code",
      "source": [
        "# Split the data into training and validation sets\n",
        "X_train, X_val, y_train, y_val = train_test_split(train_df['text'], train_df['PRODUCT_LENGTH'], test_size=0.2, random_state=42)\n",
        "\n",
        "# Vectorize the text using TF-IDF\n",
        "tfidf = TfidfVectorizer(stop_words='english', max_features=5000)\n",
        "X_train_tfidf = tfidf.fit_transform(X_train)\n",
        "X_val_tfidf = tfidf.transform(X_val)\n",
        "test_tfidf = tfidf.transform(test_df['text'])\n",
        "\n",
        "# Convert the sparse matrix to a dense matrix\n",
        "X_train_tfidf = X_train_tfidf.toarray()\n",
        "X_val_tfidf = X_val_tfidf.toarray()\n",
        "test_tfidf = test_tfidf.toarray()\n"
      ],
      "metadata": {
        "id": "xW2nHxN7KKRW"
      },
      "execution_count": null,
      "outputs": []
    },
    {
      "cell_type": "markdown",
      "source": [
        "model training"
      ],
      "metadata": {
        "id": "upaGL8EyKMiW"
      }
    },
    {
      "cell_type": "code",
      "source": [
        "# Train a linear regression model\n",
        "lr = LinearRegression()\n",
        "lr.fit(X_train_tfidf, y_train)\n",
        "y_pred = lr.predict(X_val_tfidf)\n",
        "score_lr = max(0, 100*(1-mean_absolute_percentage_error(y_val, y_pred)))\n",
        "print('Linear Regression score:', score_lr)\n",
        "\n",
        "# Train a random forest model\n",
        "rf = RandomForestRegressor(n_estimators=100, random_state=42)\n",
        "rf.fit(X_train_tfidf, y_train)\n",
        "y_pred = rf.predict(X_val_tfidf)\n",
        "score_rf = max(0, 100*(1-mean_absolute_percentage_error(y_val, y_pred)))\n",
        "print('Random Forest score:', score_rf)\n",
        "\n",
        "# Train an XGBoost model\n",
        "dtrain = xgb\n"
      ],
      "metadata": {
        "id": "xYAS7g6nKQNH"
      },
      "execution_count": null,
      "outputs": []
    },
    {
      "cell_type": "markdown",
      "source": [
        "RESULTS\n"
      ],
      "metadata": {
        "id": "uEV1ScCALQHZ"
      }
    },
    {
      "cell_type": "code",
      "source": [
        "# Generate predictions for the test data\n",
        "test_preds = model.predict(xgb.DMatrix(test_tfidf))\n",
        "submission_df = pd.DataFrame({'PRODUCT_ID': test_df['PRODUCT_ID'], 'PRODUCT_LENGTH': test_preds})\n",
        "\n",
        "# Save the predictions to a CSV file\n",
        "submission_df.to_csv('submission.csv', index=False)\n"
      ],
      "metadata": {
        "id": "7GkDlclDLSSP"
      },
      "execution_count": null,
      "outputs": []
    }
  ]
}